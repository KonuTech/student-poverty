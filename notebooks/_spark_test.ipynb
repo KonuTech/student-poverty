{
 "cells": [
  {
   "cell_type": "code",
   "execution_count": 1,
   "id": "778b4bd8-c885-4587-a491-f3fcb93b6755",
   "metadata": {},
   "outputs": [],
   "source": [
    "from pyspark.sql import SparkSession\n",
    "import pandas as pd"
   ]
  },
  {
   "cell_type": "code",
   "execution_count": 2,
   "id": "85cdcf84-63cc-4d0d-8ddf-a966006b7461",
   "metadata": {},
   "outputs": [
    {
     "data": {
      "text/plain": [
       "'/home/jovyan/work/notebooks'"
      ]
     },
     "execution_count": 2,
     "metadata": {},
     "output_type": "execute_result"
    }
   ],
   "source": [
    "import os\n",
    "os.getcwd()"
   ]
  },
  {
   "cell_type": "code",
   "execution_count": 3,
   "id": "4ed2f504-5974-4dd5-be0c-490fd3371626",
   "metadata": {},
   "outputs": [],
   "source": [
    "# Initialize Spark session\n",
    "spark = SparkSession.builder \\\n",
    "    .appName(\"CSV to Parquet Example\") \\\n",
    "    .getOrCreate()"
   ]
  },
  {
   "cell_type": "code",
   "execution_count": 4,
   "id": "7b2af9b9-2ea8-4362-b794-8f8797a56430",
   "metadata": {},
   "outputs": [],
   "source": [
    "# Create a sample DataFrame using Pandas\n",
    "data = {\n",
    "    \"Name\": [\"Alice\", \"Bob\", \"Cathy\", \"David\"],\n",
    "    \"Age\": [23, 34, 45, 56],\n",
    "    \"City\": [\"New York\", \"Los Angeles\", \"Chicago\", \"Houston\"]\n",
    "}\n",
    "pdf = pd.DataFrame(data)\n",
    "\n",
    "# Save the DataFrame to a CSV file\n",
    "csv_path = f\"{os.getcwd()}/tmp/sample_data.csv\"\n",
    "pdf.to_csv(csv_path, index=False)"
   ]
  },
  {
   "cell_type": "code",
   "execution_count": 5,
   "id": "aa20b481-ee65-4b79-9c02-9a7b1fe8686b",
   "metadata": {},
   "outputs": [
    {
     "name": "stdout",
     "output_type": "stream",
     "text": [
      "+-----+---+-----------+\n",
      "| Name|Age|       City|\n",
      "+-----+---+-----------+\n",
      "|Alice| 23|   New York|\n",
      "|  Bob| 34|Los Angeles|\n",
      "|Cathy| 45|    Chicago|\n",
      "|David| 56|    Houston|\n",
      "+-----+---+-----------+\n",
      "\n"
     ]
    }
   ],
   "source": [
    "# Read the CSV file into a Spark DataFrame\n",
    "df_csv = spark.read.csv(csv_path, header=True, inferSchema=True)\n",
    "df_csv.show()\n",
    "\n",
    "# Write the DataFrame to a Parquet file\n",
    "parquet_path = f\"{os.getcwd()}/tmp/sample_data.parquet\"\n",
    "df_csv.write.mode(\"overwrite\").parquet(parquet_path)"
   ]
  },
  {
   "cell_type": "code",
   "execution_count": 6,
   "id": "b26dddda-a033-4e82-b6f1-e119905108d5",
   "metadata": {},
   "outputs": [
    {
     "name": "stdout",
     "output_type": "stream",
     "text": [
      "+-----+---+-----------+\n",
      "| Name|Age|       City|\n",
      "+-----+---+-----------+\n",
      "|Alice| 23|   New York|\n",
      "|  Bob| 34|Los Angeles|\n",
      "|Cathy| 45|    Chicago|\n",
      "|David| 56|    Houston|\n",
      "+-----+---+-----------+\n",
      "\n"
     ]
    }
   ],
   "source": [
    "# Read the Parquet file into a Spark DataFrame\n",
    "df_parquet = spark.read.parquet(parquet_path)\n",
    "df_parquet.show()\n",
    "\n",
    "# Stop the Spark session\n",
    "# spark.stop()\n"
   ]
  },
  {
   "cell_type": "code",
   "execution_count": null,
   "id": "a02c556c-254d-450c-8a6b-fc5f9beba09e",
   "metadata": {},
   "outputs": [],
   "source": []
  }
 ],
 "metadata": {
  "kernelspec": {
   "display_name": "Python 3 (ipykernel)",
   "language": "python",
   "name": "python3"
  },
  "language_info": {
   "codemirror_mode": {
    "name": "ipython",
    "version": 3
   },
   "file_extension": ".py",
   "mimetype": "text/x-python",
   "name": "python",
   "nbconvert_exporter": "python",
   "pygments_lexer": "ipython3",
   "version": "3.11.6"
  }
 },
 "nbformat": 4,
 "nbformat_minor": 5
}
